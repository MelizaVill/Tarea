{
 "cells": [
  {
   "cell_type": "markdown",
   "metadata": {},
   "source": [
    "# Solucion Map of Science \n",
    "### Read the file `pubmedfrog.txt`, and extract all the US ZIP codes."
   ]
  },
  {
   "cell_type": "markdown",
   "metadata": {},
   "source": [
    "First, import the modules we'll need."
   ]
  },
  {
   "cell_type": "code",
   "execution_count": null,
   "metadata": {},
   "outputs": [],
   "source": [
    "import re\n",
    "import csv\n",
    "import itertools\n",
    "import pandas as pd\n",
    "import matplotlib.pyplot as plt"
   ]
  },
  {
   "cell_type": "markdown",
   "metadata": {},
   "source": [
    "Now read the whole file, and store it into a string."
   ]
  },
  {
   "cell_type": "code",
   "execution_count": null,
   "metadata": {},
   "outputs": [],
   "source": [
    "f = open('data/pubmedfrog.txt',errors = 'ignore')\n",
    "Carpetas = f.read()"
   ]
  },
  {
   "cell_type": "raw",
   "metadata": {},
   "source": [
    "10503969"
   ]
  },
  {
   "cell_type": "markdown",
   "metadata": {},
   "source": [
    "Note that the zipcode could be broken over two lines, as in line 43 of `pubmedfrog.txt`\n",
    "\n",
    "```\n",
    "AD  - Biological and Biomedical Sciences Program, Harvard Medical School, Boston, MA\n",
    "      02115, USA. Department of Genetics, Harvard Medical School, Boston, MA 02115,\n",
    "      USA.\n",
    "```\n",
    "\n",
    "To avoid problems, replace each newline followed by 6 spaces with a single space."
   ]
  },
  {
   "cell_type": "code",
   "execution_count": null,
   "metadata": {},
   "outputs": [],
   "source": [
    "Carpeta = re.sub(r'\\n\\s{6}', ' ', Carpetas)"
   ]
  },
  {
   "cell_type": "markdown",
   "metadata": {},
   "source": [
    "We should now have every entry in a single line. Let's look at part of an entry:"
   ]
  },
  {
   "cell_type": "code",
   "execution_count": null,
   "metadata": {},
   "outputs": [],
   "source": [
    "Carpetas = re.findall(r\"\\,\\s[A-Z]+[A-z]{2,11}\\.\", Carpeta)\n",
    "unique_codes = list(set(Carpetas))\n",
    "unique_codes.sort()"
   ]
  },
  {
   "cell_type": "code",
   "execution_count": null,
   "metadata": {},
   "outputs": [],
   "source": [
    "a = unique_codes\n",
    "print(a)"
   ]
  },
  {
   "cell_type": "code",
   "execution_count": null,
   "metadata": {
    "tags": []
   },
   "outputs": [],
   "source": [
    "[', Algeria.', ', Amphibia].', ', Apdo.', ', Aptdo.', ', Argentina.', ', Assam.', ', Australia.', ', Austria.', ', Avda.', ', Belarus.', ', Belgium.', ', Berkeley.', ', Billrothstr.', ', Bldg.', ', \n",
    "Bolivia.', ', Bombina.', ', Borneo.', ', Brasil.', ', Brazil.', ', Brunei.', ', Bufonidae.', ', Bulgaria.', ', Bvd.', ', CSIC.', ', \n",
    "Calif.', ', California.', ', Canada.', ', Chile.', ', China.', ', \n",
    "Col.', ', Colombia.', ', Connecticut.', ', Copenhagen.', ', Croatia.', ', Cuba.', ', Daudin.', ', Denmark.', ', Dept.', ', Depto.', \n",
    "', Dist.', ', Div.', ', ECUADOR.', ', ENaC.', ', Ecuador.', ', Egypt.', ', England.', ', Estonia.', ', Europe.', ', Fac.', ', Fig.', ', Finland.', ', Florida.', ', France.', ', GFP.', ', Garbenstr.', ', Gemany.', ', Germany.', ', Greece.', ', Hebei.', ', Hungary.', ', IRCPKDKIYKFCGSPCPPSCKDLTPNCIAVCKKGCFCRDGTVDNNHGKCVKKENC.', ', Inc.', ', India.', ', Indonesia.', ', Iran.', ', Ireland.', ', Iridoviridae.', ', Israel.', ', Italia.', ', Italy.', ', Japan.', ', Jordan.', ', Kentucky.', ', Kenya.', ', Korea.', ', LLC.', ', Lancashire.', ', Laos.', ', Lithuania.', ', Litoria.', ', Ltd.', ', Macao.', ', Macau.', ', Madagascar.', ', Malaysia.', ', Malta.', ', Mexico.', ', Missouri.', ', Mor.', ', Multicilin.', ', Myanmar.', ', NSW.', ', Netherlands.', ', Nigeria.', ', Norway.', ', Ohio.', ', Oman.', ', Ont.', ', POMC.', ', Padre.', ', Pakistan.', ', Panama.', ', Paraguay.', ', Peru.', ', Poland.', ', Polypedates.', ', Portugal.', ', Proc.', ', Provo.', ', Qatar.', ', ROC.', ', Rana.', ', Ranaboylii.', ', Rod.', ', Romania.', ', Russia.', ', Santiago.', ', Schaflandstr.', ', Schillerstr.', ', Schubertstr.', ', Scotland.', ', Sep.', ', Serbia.', ', Singapore.', ', Slovakia.', ', Slovenia.', ', Spain.', ', Suriname.', ', Sweden.', ', Switzerland.', ', Taiwan.', ', Tanzania.', ', Tex.', ', Texas.', ', Thailand.', ', Tunisia.', ', Turkey.', ', UAE.', ', USA.', ', UVS.', ', Uganda.', ', Ukraine.', ', Uruguay.', ', Venezuela.', ', Venezuela].', ', Vic.', ', Vietnam.', ', Virginia.', ', Washington.', ', Weinheim.', ', XEEL.', ', Yunnan.', ', Zambia.']"
   ]
  },
  {
   "cell_type": "code",
   "execution_count": null,
   "metadata": {},
   "outputs": [],
   "source": [
    "r = unique_codes\n",
    "r.remove(', Rod.')\n",
    "r.remove(', Syst.')\n",
    "r.remove(', Vic.')\n",
    "r.remove(', Prof.')\n",
    "r.remove(', Prov.')\n",
    "r.remove(', Ref.')\n",
    "r.remove(', SCK.')\n",
    "r.remove(', Sec.')"
   ]
  },
  {
   "cell_type": "code",
   "execution_count": null,
   "metadata": {},
   "outputs": [],
   "source": [
    "print (r)"
   ]
  },
  {
   "cell_type": "code",
   "execution_count": null,
   "metadata": {},
   "outputs": [],
   "source": [
    "[', Algeria.', ', Amphibia].', ', Apdo.', ', Aptdo.', ', Argentina.', ', Assam.', ', Australia.', ', Austria.', ', Avda.', ', Belarus.', ', Belgium.', ', Berkeley.', ', Billrothstr.', ', Bldg.', ', \n",
    "Bolivia.', ', Bombina.', ', Borneo.', ', Brasil.', ', Brazil.', ', Brunei.', ', Bufonidae.', ', Bulgaria.', ', Bvd.', ', CSIC.', ', \n",
    "Calif.', ', California.', ', Canada.', ', Chile.', ', China.', ', \n",
    "Col.', ', Colombia.', ', Connecticut.', ', Copenhagen.', ', Croatia.', ', Cuba.', ', Daudin.', ', Denmark.', ', Dept.', ', Depto.', \n",
    "', Dist.', ', Div.', ', ECUADOR.', ', ENaC.', ', Ecuador.', ', Egypt.', ', England.', ', Estonia.', ', Europe.', ', Fac.', ', Fig.', ', Finland.', ', Florida.', ', France.', ', GFP.', ', Garbenstr.', ', Gemany.', ', Germany.', ', Greece.', ', Hebei.', ', Hungary.', ', IRCPKDKIYKFCGSPCPPSCKDLTPNCIAVCKKGCFCRDGTVDNNHGKCVKKENC.', ', Inc.', ', India.', ', Indonesia.', ', Iran.', ', Ireland.', ', Iridoviridae.', ', Israel.', ', Italia.', ', Italy.', ', Japan.', ', Jordan.', ', Kentucky.', ', Kenya.', ', Korea.', ', LLC.', ', Lancashire.', ', Laos.', ', Lithuania.', ', Litoria.', ', Ltd.', ', Macao.', ', Macau.', ', Madagascar.', ', Malaysia.', ', Malta.', ', Mexico.', ', Missouri.', ', Mor.', ', Multicilin.', ', Myanmar.', ', NSW.', ', Netherlands.', ', Nigeria.', ', Norway.', ', Ohio.', ', Oman.', ', Ont.', ', POMC.', ', Padre.', ', Pakistan.', ', Panama.', ', Paraguay.', ', Peru.', ', Poland.', ', Polypedates.', ', Portugal.', ', Proc.', ', Provo.', ', Qatar.', ', ROC.', ', Rana.', ', Ranaboylii.', ', Romania.', ', Russia.', ', Santiago.', ', Schaflandstr.', ', Schillerstr.', ', Schubertstr.', ', Scotland.', \n",
    "', Sep.', ', Serbia.', ', Singapore.', ', Slovakia.', ', Slovenia.', ', Spain.', ', Suriname.', ', Sweden.', ', Switzerland.', ', Taiwan.', ', Tanzania.', ', Tex.', ', Texas.', ', Thailand.', ', Tunisia.', ', Turkey.', ', UAE.', ', USA.', ', UVS.', ', Uganda.', ', Ukraine.', ', Uruguay.', ', Venezuela.', ', Venezuela].', ', Vietnam.', ', Virginia.', ', Washington.', ', Weinheim.', ', XEEL.', ', Yunnan.', ', Zambia.']"
   ]
  },
  {
   "cell_type": "code",
   "execution_count": null,
   "metadata": {},
   "outputs": [],
   "source": [
    "a = \"\".join(unique_codes)\n",
    "b = a.split(\", \")\n",
    "c = \"\".join(b)\n",
    "unique_zipcodes = c.split(\".\")"
   ]
  },
  {
   "cell_type": "code",
   "execution_count": null,
   "metadata": {},
   "outputs": [],
   "source": [
    "print(unique_codes[:20])\n"
   ]
  },
  {
   "cell_type": "code",
   "execution_count": null,
   "metadata": {},
   "outputs": [],
   "source": [
    "[', Algeria.', ', Amphibia].', ', Apdo.', ', Aptdo.', ', Argentina.', ', Assam.', ', Australia.', ', Austria.', ', Avda.', ', Belarus.', ', Belgium.', ', Berkeley.', ', Billrothstr.', ', Bldg.', ', \n",
    "Bolivia.', ', Bombina.', ', Borneo.', ', Brasil.', ', Brazil.', ', Brunei.']"
   ]
  },
  {
   "cell_type": "code",
   "execution_count": null,
   "metadata": {},
   "outputs": [],
   "source": [
    "len(unique_zipcodes)\n"
   ]
  },
  {
   "cell_type": "raw",
   "metadata": {},
   "source": [
    "152"
   ]
  },
  {
   "cell_type": "code",
   "execution_count": null,
   "metadata": {},
   "outputs": [],
   "source": [
    "%matplotlib inline\n",
    "\n",
    "Coordenadas = pd.read_csv('Data/data_Coordenadas.csv', engine='python', skipfooter=3)\n",
    "Coordenadas.head(15)"
   ]
  },
  {
   "cell_type": "code",
   "execution_count": null,
   "metadata": {},
   "outputs": [],
   "source": [
    "country   latitude   longitude                  name\n",
    "0       AD  42.546245    1.601554               Andorra\n",
    "1       AE  23.424076   53.847818  United Arab Emirates\n",
    "2       AF  33.939110   67.709953           Afghanistan\n",
    "3       AG  17.060816  -61.796428   Antigua and Barbuda\n",
    "4       AI  18.220554  -63.068615              Anguilla\n",
    "5       AL  41.153332   20.168331               Albania\n",
    "6       AM  40.069099   45.038189               Armenia\n",
    "7       AN  12.226079  -69.060087  Netherlands Antilles\n",
    "8       AO -11.202692   17.873887                Angola\n",
    "9       AQ -75.250973   -0.071389            Antarctica\n",
    "10      AR -38.416097  -63.616672             Argentina\n",
    "11      AS -14.270972 -170.132217        American Samoa\n",
    "12      AT  47.516231   14.550072               Austria\n",
    "13      AU -25.274398  133.775136             Australia\n",
    "14      AW  12.521110  -69.968338                 Aruba"
   ]
  },
  {
   "cell_type": "code",
   "execution_count": null,
   "metadata": {},
   "outputs": [],
   "source": [
    "Coordenadas.columns = [\"ID_País\", \"Latitud\", \"Longitud\", \"Nombre\"]\n",
    "Coordenadas.head(10)"
   ]
  },
  {
   "cell_type": "code",
   "execution_count": null,
   "metadata": {},
   "outputs": [],
   "source": [
    " ID_País    Latitud   Longitud                Nombre\n",
    "0      AD  42.546245   1.601554               Andorra\n",
    "1      AE  23.424076  53.847818  United Arab Emirates\n",
    "2      AF  33.939110  67.709953           Afghanistan\n",
    "3      AG  17.060816 -61.796428   Antigua and Barbuda\n",
    "4      AI  18.220554 -63.068615              Anguilla\n",
    "5      AL  41.153332  20.168331               Albania\n",
    "6      AM  40.069099  45.038189               Armenia\n",
    "7      AN  12.226079 -69.060087  Netherlands Antilles\n",
    "8      AO -11.202692  17.873887                Angola\n",
    "9      AQ -75.250973  -0.071389            Antarctica"
   ]
  },
  {
   "cell_type": "code",
   "execution_count": null,
   "metadata": {},
   "outputs": [],
   "source": [
    "datos_nombre = Coordenadas[Coordenadas.Nombre.isin(unique_zipcodes)]\n",
    "datos_paises = Coordenadas[Coordenadas.ID_País.isin(unique_zipcodes)]\n",
    "all_data =pd.concat([datos_nombre,datos_paises]).drop_duplicates().sort_values('Nombre')"
   ]
  },
  {
   "cell_type": "code",
   "execution_count": null,
   "metadata": {},
   "outputs": [],
   "source": [
    "all_data.head(10)\n"
   ]
  },
  {
   "cell_type": "code",
   "execution_count": null,
   "metadata": {},
   "outputs": [],
   "source": [
    " ID_País    Latitud    Longitud     Nombre\n",
    "58      DZ  28.033886    1.659626    Algeria\n",
    "10      AR -38.416097  -63.616672  Argentina\n",
    "13      AU -25.274398  133.775136  Australia\n",
    "12      AT  47.516231   14.550072    Austria\n",
    "33      BY  53.709807   27.953389    Belarus\n",
    "19      BE  50.503887    4.469936    Belgium\n",
    "27      BO -16.290154  -63.588653    Bolivia\n",
    "28      BR -14.235004  -51.925280     Brazil\n",
    "26      BN   4.535277  114.727669     Brunei\n",
    "21      BG  42.733883   25.485830   Bulgaria"
   ]
  },
  {
   "cell_type": "code",
   "execution_count": null,
   "metadata": {},
   "outputs": [],
   "source": [
    "#matplotlib \n",
    "import matplotlib.pyplot as plt\n",
    "plt.scatter(all_data.Longitud, all_data.Latitud, s=50, c=all_data.Latitud)\n",
    "plt.colorbar()\n",
    "\n",
    "ard = dict(arrowstyle=\"->\")\n",
    "plt.annotate('AUSTRALIA', xy = (133.775136, -25.274398), \n",
    "               xytext = (133.775136, -20), arrowprops= ard)\n",
    "plt.annotate('BRASIL', xy = (-51.92528, -14.235004), \n",
    "               xytext = (-51.92528, -9.5), arrowprops= ard)\n",
    "plt.annotate('BELGICA', xy = (4.469936, 50.503887), \n",
    "               xytext = (9.469936, 38), arrowprops = ard)\n",
    "plt.annotate('CHINA', xy = (104.195397, 35.86166), \n",
    "               xytext = (104.195397, 39), arrowprops= ard)\n",
    "plt.annotate('NORUEGA', xy = (8.468946, 60.472024), \n",
    "               xytext = (8.468946, 63), arrowprops= ard)\n",
    "plt.annotate('AFGHANISTAN', xy = (67.709953,33.939110), \n",
    "               xytext = (70.709953, 30), arrowprops= ard)\n",
    "plt.annotate('ARGENTINA', xy = (-63.616672,\t-38.416097), \n",
    "               xytext = (-63.616672, -36), arrowprops= ard)\n",
    "plt.annotate('ALGERIA', xy = (1.659626,\t28.033886), \n",
    "               xytext = (1.659626, 24), arrowprops= ard)\n",
    "plt.annotate('BOLIVIA', xy = (-63.588653,\t-16.290154), \n",
    "               xytext = (-63.588653, -6), arrowprops= ard)\n",
    "params = plt.gcf()\n",
    "plSize = params.get_size_inches()\n",
    "params.set_size_inches( (plSize[0] * 3, plSize[1] * 3) )\n",
    "\n",
    "plt.savefig(\"Mapa of frogs.png\")"
   ]
  },
  {
   "cell_type": "code",
   "execution_count": null,
   "metadata": {},
   "outputs": [],
   "source": []
  }
 ],
 "metadata": {
  "kernelspec": {
   "display_name": "Python 3",
   "language": "python",
   "name": "python3"
  },
  "language_info": {
   "codemirror_mode": {
    "name": "ipython",
    "version": 3
   },
   "file_extension": ".py",
   "mimetype": "text/x-python",
   "name": "python",
   "nbconvert_exporter": "python",
   "pygments_lexer": "ipython3",
   "version": "3.8.8"
  }
 },
 "nbformat": 4,
 "nbformat_minor": 4
}
